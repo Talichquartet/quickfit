{
 "cells": [
  {
   "cell_type": "code",
   "execution_count": null,
   "metadata": {},
   "outputs": [],
   "source": []
  },
  {
   "cell_type": "code",
   "execution_count": 1,
   "metadata": {},
   "outputs": [],
   "source": [
    "from smb.SMBConnection import SMBConnection\n",
    "from pathlib import Path\n",
    "import numpy as np  # Assuming you need this for loading .mat files\n",
    "from scipy.io import loadmat  # Adjust this import based on your .mat loading method\n",
    "import platform"
   ]
  },
  {
   "cell_type": "code",
   "execution_count": 2,
   "metadata": {},
   "outputs": [
    {
     "data": {
      "text/plain": [
       "'one'"
      ]
     },
     "execution_count": 2,
     "metadata": {},
     "output_type": "execute_result"
    }
   ],
   "source": [
    "platform.uname().node"
   ]
  },
  {
   "cell_type": "code",
   "execution_count": 5,
   "metadata": {},
   "outputs": [
    {
     "ename": "NotImplementedError",
     "evalue": "Please use HDF reader for matlab v7.3 files",
     "output_type": "error",
     "traceback": [
      "\u001b[0;31m---------------------------------------------------------------------------\u001b[0m",
      "\u001b[0;31mNotImplementedError\u001b[0m                       Traceback (most recent call last)",
      "Cell \u001b[0;32mIn[5], line 26\u001b[0m\n\u001b[1;32m     23\u001b[0m     conn\u001b[38;5;241m.\u001b[39mretrieveFile(share_name, file_path, file_obj)\n\u001b[1;32m     25\u001b[0m \u001b[38;5;66;03m# Load the .mat file using your preferred method\u001b[39;00m\n\u001b[0;32m---> 26\u001b[0m CXRSdata \u001b[38;5;241m=\u001b[39m \u001b[43mloadmat\u001b[49m\u001b[43m(\u001b[49m\u001b[43mfile_name\u001b[49m\u001b[43m)\u001b[49m\n\u001b[1;32m     28\u001b[0m \u001b[38;5;66;03m# Clean up\u001b[39;00m\n\u001b[1;32m     29\u001b[0m conn\u001b[38;5;241m.\u001b[39mclose()\n",
      "File \u001b[0;32m/opt/JupyterLab/resources/jlab_server/lib/python3.10/site-packages/scipy/io/matlab/_mio.py:225\u001b[0m, in \u001b[0;36mloadmat\u001b[0;34m(file_name, mdict, appendmat, **kwargs)\u001b[0m\n\u001b[1;32m    223\u001b[0m variable_names \u001b[38;5;241m=\u001b[39m kwargs\u001b[38;5;241m.\u001b[39mpop(\u001b[38;5;124m'\u001b[39m\u001b[38;5;124mvariable_names\u001b[39m\u001b[38;5;124m'\u001b[39m, \u001b[38;5;28;01mNone\u001b[39;00m)\n\u001b[1;32m    224\u001b[0m \u001b[38;5;28;01mwith\u001b[39;00m _open_file_context(file_name, appendmat) \u001b[38;5;28;01mas\u001b[39;00m f:\n\u001b[0;32m--> 225\u001b[0m     MR, _ \u001b[38;5;241m=\u001b[39m \u001b[43mmat_reader_factory\u001b[49m\u001b[43m(\u001b[49m\u001b[43mf\u001b[49m\u001b[43m,\u001b[49m\u001b[43m \u001b[49m\u001b[38;5;241;43m*\u001b[39;49m\u001b[38;5;241;43m*\u001b[39;49m\u001b[43mkwargs\u001b[49m\u001b[43m)\u001b[49m\n\u001b[1;32m    226\u001b[0m     matfile_dict \u001b[38;5;241m=\u001b[39m MR\u001b[38;5;241m.\u001b[39mget_variables(variable_names)\n\u001b[1;32m    228\u001b[0m \u001b[38;5;28;01mif\u001b[39;00m mdict \u001b[38;5;129;01mis\u001b[39;00m \u001b[38;5;129;01mnot\u001b[39;00m \u001b[38;5;28;01mNone\u001b[39;00m:\n",
      "File \u001b[0;32m/opt/JupyterLab/resources/jlab_server/lib/python3.10/site-packages/scipy/io/matlab/_mio.py:80\u001b[0m, in \u001b[0;36mmat_reader_factory\u001b[0;34m(file_name, appendmat, **kwargs)\u001b[0m\n\u001b[1;32m     78\u001b[0m     \u001b[38;5;28;01mreturn\u001b[39;00m MatFile5Reader(byte_stream, \u001b[38;5;241m*\u001b[39m\u001b[38;5;241m*\u001b[39mkwargs), file_opened\n\u001b[1;32m     79\u001b[0m \u001b[38;5;28;01melif\u001b[39;00m mjv \u001b[38;5;241m==\u001b[39m \u001b[38;5;241m2\u001b[39m:\n\u001b[0;32m---> 80\u001b[0m     \u001b[38;5;28;01mraise\u001b[39;00m \u001b[38;5;167;01mNotImplementedError\u001b[39;00m(\u001b[38;5;124m'\u001b[39m\u001b[38;5;124mPlease use HDF reader for matlab v7.3 files\u001b[39m\u001b[38;5;124m'\u001b[39m)\n\u001b[1;32m     81\u001b[0m \u001b[38;5;28;01melse\u001b[39;00m:\n\u001b[1;32m     82\u001b[0m     \u001b[38;5;28;01mraise\u001b[39;00m \u001b[38;5;167;01mTypeError\u001b[39;00m(\u001b[38;5;124m'\u001b[39m\u001b[38;5;124mDid not recognize version \u001b[39m\u001b[38;5;132;01m%s\u001b[39;00m\u001b[38;5;124m'\u001b[39m \u001b[38;5;241m%\u001b[39m mjv)\n",
      "\u001b[0;31mNotImplementedError\u001b[0m: Please use HDF reader for matlab v7.3 files"
     ]
    }
   ],
   "source": [
    "\n",
    "# Assuming you have the following variables defined\n",
    "shot = 6580  # Example shot number\n",
    "username = 'zhouyu'  # Replace with your SMB username\n",
    "password = 'Wo4zy+swip.'  # Replace with your SMB password\n",
    "client_name = platform.uname().node  # Replace with your client machine name\n",
    "server_name = '172.30.20.11'  # Replace with your server IP or name\n",
    "share_name = 'image'  # Replace with your share name\n",
    "\n",
    "# Format the shot number\n",
    "shotstr = '{:05d}'.format(shot)\n",
    "\n",
    "# Define the file path\n",
    "file_name = f\"{shotstr}cxrs.mat\"\n",
    "file_path = f\"2MDAS/CXRS/{file_name}\"\n",
    "\n",
    "# Create an SMB connection\n",
    "conn = SMBConnection(username, password, client_name, server_name,domain='swip',use_ntlm_v2=False,is_direct_tcp=True)\n",
    "conn.connect(server_name,445)  #\n",
    "\n",
    "\n",
    "# Read the file from the SMB share\n",
    "with open(file_name, 'wb') as file_obj:\n",
    "    conn.retrieveFile(share_name, file_path, file_obj)\n",
    "\n",
    "# Load the .mat file using your preferred method\n",
    "CXRSdata = loadmat73(file_name)\n",
    "\n",
    "# Clean up\n",
    "conn.close()\n"
   ]
  },
  {
   "cell_type": "code",
   "execution_count": null,
   "metadata": {},
   "outputs": [],
   "source": []
  }
 ],
 "metadata": {
  "kernelspec": {
   "display_name": "jlab_server",
   "language": "python",
   "name": "python3"
  },
  "language_info": {
   "codemirror_mode": {
    "name": "ipython",
    "version": 3
   },
   "file_extension": ".py",
   "mimetype": "text/x-python",
   "name": "python",
   "nbconvert_exporter": "python",
   "pygments_lexer": "ipython3",
   "version": "3.10.8"
  }
 },
 "nbformat": 4,
 "nbformat_minor": 2
}
